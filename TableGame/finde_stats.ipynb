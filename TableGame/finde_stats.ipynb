{
 "cells": [
  {
   "cell_type": "code",
   "execution_count": 2,
   "metadata": {},
   "outputs": [],
   "source": [
    "import tabclass as tc"
   ]
  },
  {
   "cell_type": "code",
   "execution_count": 3,
   "metadata": {},
   "outputs": [],
   "source": [
    "# Функция статистической проверки баланса между двумя отрядами на выборке из count_of_repeat боев\n",
    "def chek_balance(squad1:tc.Unit, squad2:tc.Unit, count_of_repeat:int = 1000) -> dict:\n",
    "    \n",
    "    # словарь для подсчета побед, поражений, ничьих по гибели и ничьих по времени\n",
    "    dict_of_balance = {'win1': 0, 'win2': 0, 'draw_f': 0, 'draw_t': 0}\n",
    "\n",
    "    # считаем результаты для count_of_repeat боев между squad1 и squad2 \n",
    "    for i in range(count_of_repeat):\n",
    "        dict_of_balance[tc.one_fight(squad1, squad2)]+=1\n",
    "        squad1.rewrite()\n",
    "        squad2.rewrite()\n",
    "    \n",
    "    # переменная - метрика разницы побед squad1 и squad2 \n",
    "    delta_win = f'{abs(dict_of_balance['win1'] - dict_of_balance['win2'])/count_of_repeat * 100:.2f}%'\n",
    "\n",
    "    # переводим результаты поединков в процентное представление\n",
    "    for key, value in dict_of_balance.items():\n",
    "        dict_of_balance[key] = f\"{value / count_of_repeat * 100:.2f}%\"\n",
    "\n",
    "    # добавляем в словарь метрику разницы побед перед выводом словаря из функции\n",
    "    dict_of_balance['delta_win'] = delta_win\n",
    "\n",
    "    return dict_of_balance\n",
    "\n",
    "    "
   ]
  },
  {
   "cell_type": "code",
   "execution_count": 10,
   "metadata": {},
   "outputs": [],
   "source": [
    "unit1 = tc.Unit(\"Kostik\", 9, 7, 2, 2)\n",
    "unit2 = tc.Unit(\"Kirill\", 9, 7, 2, 2)\n",
    "unit3 = tc.Unit(\"Ksiusha\", 9, 7, 2, 2)\n",
    "unit4 = tc.Unit(\"Kolya\", 9, 7, 2, 2)\n",
    "unit5 = tc.Unit(\"Katya\", 9, 7, 2, 2)\n",
    "\n",
    "unit6 = tc.Unit(\"Gosha\", 9, 8, 0, 3)\n",
    "unit7 = tc.Unit(\"Glasha\", 9, 8, 0, 3)\n",
    "unit8 = tc.Unit(\"Galya\", 9, 8, 0, 3)\n",
    "unit9 = tc.Unit(\"Gena\", 9, 8, 0, 3)\n",
    "unit10 = tc.Unit(\"Grisha\", 9, 8, 0, 3)\n",
    "\n",
    "unit11 = tc.Unit(\"Pasha\", 10, 5, 4, 1)\n",
    "unit12 = tc.Unit(\"Polina\", 10, 5, 4, 1)\n",
    "unit13 = tc.Unit(\"Petya\", 10, 5, 4, 1)\n",
    "unit14 = tc.Unit(\"Platon\", 10, 5, 4, 1)\n",
    "unit15 = tc.Unit(\"Pavel\", 10, 5, 4, 1)\n",
    "\n",
    "squad1 = tc.Squad (\"Bobiki\", [unit1,unit2,unit3,unit4])\n",
    "squad2 = tc.Squad (\"Gavriki\", [unit6,unit7,unit8,unit9])\n",
    "squad3 = tc.Squad (\"Kisiki\", [unit11,unit12,unit13,unit14])"
   ]
  },
  {
   "cell_type": "code",
   "execution_count": 11,
   "metadata": {},
   "outputs": [
    {
     "name": "stdout",
     "output_type": "stream",
     "text": [
      "s1*s2:{'win1': '40.86%', 'win2': '49.94%', 'draw_f': '9.20%', 'draw_t': '0.00%', 'delta_win': '9.08%'}\n",
      "s1*s3:{'win1': '57.50%', 'win2': '42.46%', 'draw_f': '0.02%', 'draw_t': '0.02%', 'delta_win': '15.04%'}\n",
      "s2*s3:{'win1': '53.98%', 'win2': '43.02%', 'draw_f': '3.00%', 'draw_t': '0.00%', 'delta_win': '10.96%'}\n"
     ]
    }
   ],
   "source": [
    "print (f's1*s2:{chek_balance(squad1,squad2, 5000)}')\n",
    "print (f's1*s3:{chek_balance(squad1,squad3, 5000)}')\n",
    "print (f's2*s3:{chek_balance(squad2,squad3, 5000)}')"
   ]
  }
 ],
 "metadata": {
  "kernelspec": {
   "display_name": "Python 3",
   "language": "python",
   "name": "python3"
  },
  "language_info": {
   "codemirror_mode": {
    "name": "ipython",
    "version": 3
   },
   "file_extension": ".py",
   "mimetype": "text/x-python",
   "name": "python",
   "nbconvert_exporter": "python",
   "pygments_lexer": "ipython3",
   "version": "3.12.9"
  }
 },
 "nbformat": 4,
 "nbformat_minor": 2
}
